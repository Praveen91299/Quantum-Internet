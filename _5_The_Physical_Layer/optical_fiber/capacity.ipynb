{
 "cells": [
  {
   "cell_type": "markdown",
   "metadata": {},
   "source": [
    "# 🚧 THIS NOTEBOOK IS UNDER CONSTRUCTION 🚧"
   ]
  },
  {
   "cell_type": "markdown",
   "metadata": {},
   "source": [
    "# Capacity of Quantum channels  \n",
    "To transmit quantum information, optical fibers are utilised and these can be modelled as quantum channels. These channels are usually not ideal and lead to information losses. To makes estimates of number of entanglement generation rate and to choose ideal entanglement purification process, it is necessary to study and determine the capacity of the channel. This document consists of information on  \n",
    "1) Basic quantum channel definitions, notations and theorems (without proofs)  \n",
    "2) Optical fiber channels  "
   ]
  },
  {
   "cell_type": "markdown",
   "metadata": {},
   "source": [
    "## Basic Quantum channel definitions, notations and theorems  \n",
    "Here's a quick refresher about quantum channels. A quantum channel is a completely positive trace preserving map (CPTP). If $\\Phi : \\mathcal{L(X)} \\rightarrow \\mathcal{L(Y)}$ denotes a channel, then  \n",
    "1) Completely positive - $$(\\Phi \\otimes I_{\\mathcal{L(Z)}})(\\rho) \\in POS(\\mathcal{(Y\\otimes Z)})\n",
    "\\forall \\mathcal{Z}, \\rho \\in POS(\\mathcal{X \\otimes Z}).$$\n",
    "2) Trace preserving - $$Tr(\\Phi(\\rho)) = Tr(\\rho)$$  \n",
    "$POS$ can be thought as states who's eigen values are $\\geq 0$\n",
    "\n",
    "Channels can be mathematically modelled as evolutions of the state by an operator, that is usually not unitary. An important representation is the Krauss representation.  \n",
    "The Krauss representation of the channel is given by $$\\Phi(X) = \\sum_a A_a XB_a^\\dagger$$ where $A_a$ and $B_a$ are operators that go from spaces $\\mathcal{X}$ to $\\mathcal{Y}$.  \n",
    "A useful representation that can be directly derived from this is the stinespring representation, which is nothing but tracing out ancilla state from the purification of the Krauss representation: $$\\Phi(\\rho) = Tr_z(A\\rho B)$$ for $A = \\sum_i A_i\\otimes |i\\rangle$, $B = \\sum_i B_i\\otimes |i\\rangle$ where $|i\\rangle$ is an orthonormal basis set in $Z$ that is large enough for the purification to be possible.  \n",
    "\n",
    "Another useful representation is the choi representation of the channel, given by:  \n",
    "$$ J(\\Phi) = \\sum_{a,b} \\Phi(|a\\rangle\\langle b|) \\otimes (|a\\rangle\\langle b|)$$  \n",
    "\n",
    "This representation is particularly useful since it allows representations to be vectorisation of input and channel operators and also directly reflects the channel effect on a maximally entangled pair, and this property is used in to simplify our proof."
   ]
  },
  {
   "cell_type": "markdown",
   "metadata": {},
   "source": [
    "### Quantum capacity  \n",
    "Capacity of a channel is the maximum rate of information (classical or quantum) that can be transmitted such that useful information can be received (or decoded) at the receiving end. Intuitively, this translates to  \n",
    "$$C = lim_{n\\rightarrow \\infty} \\frac{\\hbox{Information transmitted over n uses of the channel}}{n}.$$\n",
    "The reason we use the limit stems arises due to Shannon's theories and that, depending on channel, one always has a finite chance of failing to transmit information and in the infinite limit, this probability goes to zero.  \n",
    "\n",
    "The quantum capacity of a channel, (which is also the same as entanglement generation capacity) is given by \n",
    "$$Q(\\Phi) = lim_{n\\rightarrow \\infty} \\frac{I_c(\\Phi^{\\otimes n})}{n}  = lim_{n\\rightarrow \\infty} \\hbox{max}_\\rho \\frac{I_c(\\sigma; \\Phi^{\\otimes n})}{n}.$$\n",
    "where $I_c(\\sigma; \\Phi)$ denotes the **coherent information** of the channel given by $I_c(\\sigma; \\Phi) = H(\\Phi(\\sigma)) - H(\\Psi(\\sigma))$ where $\\psi$ is the complementary channel of $\\Phi$, and we have $H(\\Psi(S)) = H((\\Phi_p\\otimes I)(vec(\\sqrt{S})vec(\\sqrt{S})^\\dagger))$.  \n",
    "\n",
    "Intuitively, Coherent information captures the quantum information in common to the input and output of the channel, similar to mutual information.  \n",
    "Complementary channels: If there exists operator (isometry) $A \\in U(X, Y\\otimes Z)$ for which, $\\Phi(X) = Tr_Z(AXA^\\dagger)$ and $\\Psi(X) = Tr_Y(AXA^\\dagger)$ for every X, then $\\Phi$ and $\\Psi$ are complementary channels. If one of it is considered the system, then it's complementary channel output descibes the environment.   Basically $A$ is the stinespring representation of the channel.  \n",
    "\n",
    "\n",
    "The closed form quantum capacities of many channel models still are not known."
   ]
  },
  {
   "cell_type": "markdown",
   "metadata": {},
   "source": [
    "## Establishing entanglement [4]  \n",
    "of the various processes suggested, we look at the following methods. Quantum information can be transmitted via optical channels. With distance of transmission, the sent information is corrupted by interactions with environment and other factors and hence it's fidelity reduces with increasing distance. So, to recover the entanglement pair, we can send multiple inputs and combine them to fewer entanglement pair by a process called distillation.  \n",
    "\n",
    "Here's the catch, for distillation to be successful and feasible, the fidelity is required to be greater that 0.5 (depends on procedure used). So the length the channel the qubit can travel is restricted by an upper bound before it can never be recovered again. To overcome this, we place repeaters at intermediate points. So successive repeaters can exchange e-bits and perform entanglement swapping operations after distillation to establish long range entanglement.  \n",
    "\n",
    "Though yet again, there's another catch. The measurements and processes performed by the repeaters may not be perfect and will reduce the fidelity of the pair. So all this errors accumulate, and if enough error such that fidelity drops below 0.5, the long range entanglement pair cannot be successfully distilled out. Thus at every, say m repeaters we are required to perform distillation after swapping and then proceed to the next iteration of this procedure. See the diagram below:  \n",
    "```\n",
    "1)  Establish entanglement between successive nodes:  \n",
    "A --- R1 --- R2 --- R3 --- B  \n",
    " |===|  |===|  |===|  |===|   \n",
    "2) Perform entanglement swaps at intermediate points R1 and R3:  \n",
    "A --- R1 --- R2 --- R3 --- B  \n",
    " |==========|  |===========|   \n",
    "3) Some errors might have occured, so perform distillation at repeaters A and B:  \n",
    "A --- R1 --- R2 --- R3 --- B  \n",
    " |----------|  |-----------|   \n",
    "4) Perform entanglement swaps in the next iteration (in this case R2) and proceed similarly:  \n",
    "A --- R1 --- R2 --- R3 --- B  \n",
    " |-------------------------|   \n",
    " \n",
    " ```\n",
    "\n",
    "Now, the initial state that we use to obtain entanglement pairs need not be the normal bell states or any particular state and [4] provides a procedure to do so. We can use any state $\\tau$ that may be optimized to maximize purification probability and hence minimize overall resources used. This depends on:  \n",
    "1) The purification procedure  \n",
    "2) Type of channel used  \n",
    "\n",
    "For our purposes, the optical quantum channel is modelled as a Phase insensitive Gaussian channel. We can possibly choose an input state and protocol that is optimal for this. So we need to study the channel and it's properties so as to determine it's quantum capacity and hence it's fidelity with respect to distance.  "
   ]
  },
  {
   "cell_type": "markdown",
   "metadata": {},
   "source": [
    "### Modelling a phase insensitive Gaussian Bosonic channel  \n",
    "\n",
    "Optical fibres similar to those currently used in the classical internet system can be used to transmit quantum states, via photons, which are bosonic in nature. We can represent bosonic states by the fock number representation $|n\\rangle$ where n denotes the number of photons and not the state of the photon. These are similar to the modes of the Quantum Harmonic oscillator.  \n",
    "\n",
    "For QKD systems and any quantum transmission systems, we can model it in two ways, using single photon states and it's state and polarisation determining the state. This requires single photon sources that may not be readily available. The photon output can be modelled by a poissonic distribution and in the case of multiple photons simultaneously emmited, we can show that QKD is not computationally secure and eve can just use a beam splitter and retain one of the photons. Though one can design protocols that are computationally secure (Refer Renato Renner's thesis), we can show that for realistic quantum networks where there are high loses and single photon sources are both hard to create and the single photon has a very low probability of successfully making it to the receiver in a coherent fashion. We use Gaussian states over mulitple modes and $>1$ average number of photons to model transmission and is detailed below. We can also show that since optical channels are gaussian, best rates are achieved using gaussian states [3].  "
   ]
  },
  {
   "cell_type": "markdown",
   "metadata": {},
   "source": [
    "Preliminaries:  \n",
    "\n",
    "#### Quadrature representation and Gaussian states [2].  \n",
    "\n",
    "Photons are represented by $|n\\rangle$ and n denotes the number of photons, in a particular mode. Each mode is a separate 'oscillator' and can have any number of photons. For each mode, we have the creation and annihilation operators $\\hat{a}$ and $\\hat{a}^\\dagger$ with the action $\\hat{a}|n\\rangle = \\sqrt{n}|n-1\\rangle$ and $\\hat{a}^\\dagger |n\\rangle = \\sqrt{n+1}|n+1\\rangle$, with the commutator $[\\hat{a}, \\hat{a}^\\dagger] = 1$ We convert to 'coordinate momentum' quadrature representation, $\\hat{q} = \\hat{a} + \\hat{a}^\\dagger$ and $\\hat{p} = i(\\hat{a}^\\dagger - \\hat{a})$. Thus for n modes, we write it as $\\hat{x} = (\\hat{q}_1, \\hat{q}_2 \\dots \\hat{q}_n, \\hat{p}_1, \\hat{p}_2 \\dots \\hat{p}_n)$ where $[\\hat{q}_j, \\hat{p}_j] = i \\forall j$.  "
   ]
  },
  {
   "cell_type": "markdown",
   "metadata": {},
   "source": [
    "Note that the commutation relation between $\\hat{q}_i, \\hat{p}_i$ causes $[\\hat{x}, \\hat{x}^T]$ to have a skew symmetric form. Due to this and since transformations need to conserve this structure (uncertainity principle manifests as this commutation) transformations (such as channels and gates) of the quadrature representation can be represented as symplectic matrices. Symplectic matrices by definition $S^T\\Omega S = \\Omega$ where $\\Omega$ is a skew-symmetric matrix.  \n",
    "\n",
    "A Wigner function is a phase space mapping of a state, something like a fourier transform, except into the phase space joint space.  \n",
    "\n",
    "A general bosonic state is given by $\\rho(\\mu, V)$, ($\\mu$ is the mean and the covariance matrix is given by $V$) $$ \\rho(\\mu, V) = \\frac{exp(\\frac{1}{2}(\\hat{x} - \\mu)G(\\hat{x} - \\mu))}{|V + i\\Omega/2|^{1/2}}$$  \n",
    "\n",
    "Where $G = 2i\\Omega coth^{-1}(2Vi\\Omega)$. A pure state is Gaussian if and only if it's wigner function is positive. Also wigner functions of Gaussian states have a gaussian form.  \n",
    "\n",
    "V can be brought in to the form ${\\oplus_{k=1}}^n \\nu_k I_2$ by simplectic transforms, from Williamson's theorem. This decomposition can be thought of a spectra of the state and we can obtain the entropy of the quadrature state as $S(\\rho) = \\sum h(\\bar{x}_i)$ where $h(x) = (x+1)log(x+1) - xlog(x)$ and $\\nu_i = \\bar{x}_i + \\frac{1}{2}$. $\\bar{x}_i$ is the mean number of photons in the ith state. The 1/2 arises from the uncertainity prinicple or zero state fluctuations and is called the shot noise.\n",
    "\n",
    "A Gaussian channel is nothing but a channel that takes a Gaussian state to another Gaussian state. Transformations on the quadrature is represented by $\\hat{x} \\rightarrow S\\hat{x} + d_{\\alpha}$, for S a symplectic matrix and $d_{\\alpha}$ a displacement, which is given by the usual displacement operator $D(\\alpha) = e^{\\alpha\\hat{a}^\\dagger - \\alpha^*\\hat{a}}$ which has the transformation $\\hat{a} \\rightarrow \\hat{a} + \\alpha$.  "
   ]
  },
  {
   "cell_type": "markdown",
   "metadata": {},
   "source": [
    "#### Capacity derivation [1]:  \n",
    "\n",
    "The two-way capacity of this lossy channel for any repeaterless implementation of the channel can be shown to be $$ C = -\\log(1-\\eta) $$  \n",
    "per mode, where $\\eta$ represents the physical channel's transmissivity. $\\eta$ varies with distance exponentially with a constant loss ($\\alpha$) in dbm units. For low $\\eta$ values, using $\\log(x) \\approx x+1$ we get roughly $1.44\\eta$ as an upper bound per mode used.  \n",
    "\n",
    "One of the main idea of the proof to establish bounds is $\\sigma$-stretching of the channel. A channel describes the output for a given input, and this is the same as sharing a resource state $\\sigma$ in the first place and applying a LOCC (local operations and classical communications) on the total space. In a standard teleportation protocol, Alice performs some unitary followed by measurements on his state and his space of the EPR and transmit's classical information to Bob to receive the message state. One can show that this simulation of channels is possible when the resource state is chosen to be the choi representation of the channel, $\\sigma = (I \\otimes \\mathcal{E})(\\Phi)$ where $\\Phi$ is the maximally entangled EPR state. This construct is used in the proof below.  \n",
    "\n",
    "We define the following terminology: Key distribution capacity K, Entanglement distribution capacity $D_2$, and quantum capacity $Q$. We also define relative entanglement entropy (REE) $$E_R(\\sigma) = inf_{{\\sigma_s}^\\mu}lim_{\\mu \\rightarrow \\infty} inf S(\\sigma^\\mu || {\\sigma_s}^\\mu)$$, where S(||) is the KL divergence.\n",
    "\n",
    "We have the bound \n",
    "\n",
    "$$ max\\{I_c(\\mathcal{E}), I_{nc}(\\mathcal{E})\\} \\leq D_1(\\rho_\\mathcal{E}) \\leq C(\\mathcal{E})-(1)$$\n",
    "\n",
    "where $D_1$ is the entanglement distillable by one way LOCCs.\n",
    "one way to understand this bound is that the entanglement distilled by one way LOCC is always going to be intuitively lesser than the total entanglement actually contained in the state, which is lesser or equal to the capacity by deifinition. Here $I_c$ is the coherent information and $I_{nc}$ is the reverse coherent information. Coherent information $I_c = S(B) - S(AB)$ can be thought of the information that is non local to Bob (B's entropy - the total entropy). Reverse coherent information is the coherent information when the roles of Alice and Bob are reversed (A sends EPR state, B performs operations and the LOCC is from B to A and hence A receives state).  \n",
    "\n",
    "We have the following bound $$C(\\mathcal{E}) \\leq {E_R}^*(\\mathcal{E}) := {sup}_L lim_n \\frac{E_R(\\rho_{ab}^n)}{n} \\leq {E^\\infty_R}(\\sigma) \\leq E_R(\\sigma)$$  \n",
    "\n",
    "where L denotes the LOCCs used in the intermediate steps to get $\\rho_{ab}^n$. In the above, we have $E_R(\\rho_{ab}^n) \\leq E_R(\\sigma^n)$ due to the monotonicity of REE under trace preserving LOCCs.  \n",
    "\n",
    "The first inequality can be thought of as the 'distance' from a separable state would always be a bit more than that perceived and used by the rate achieving transmission protocol as it would be the average that it would perceive."
   ]
  },
  {
   "cell_type": "markdown",
   "metadata": {},
   "source": [
    "The last inequality comes from the fact that for teleportation $\\sigma$-stretchable channels, we can describe the channel as it's action over the resource state followed by LOCCs which introduce the inequality that LOCCs reduce the divergence from separable states $\\sigma_s$.\n",
    "\n",
    "In particular, for Choi stretchable channels (where if the resource state is switched with $\\rho_\\mathcal{E} = (I\\otimes\\mathcal{E})(\\sigma)$), the relative entropy values don't change, modulo some LOCCs. Hence for such channels, we get the following bounds  \n",
    "\n",
    "$$ C(\\mathcal{E}) \\leq {E^\\infty}_R(\\rho_{\\mathcal{E}}) \\leq E_R(\\rho_{\\mathcal{E}}) \\leq E_R(\\mathcal{E}) $$\n",
    "\n",
    "Now, note that $E_R(\\rho_{\\mathcal{E}})$ is the entanglement distributed over single EPR pair (signle channel use), this coincides with the entanglement 'flux' rate $\\Phi(\\mathcal{E})$. For a subset of 'distillable channels' the upper bound and lower bound can be shown to coincide, thus giving a definite rate.  \n",
    "\n",
    "Hence, the capacity is bounded on the upper side by $$C(\\mathcal{E}) \\leq \\Phi(\\mathcal{E}) \\leq lim_{\\mu \\rightarrow \\infty} inf S({\\rho^\\mu}_\\mathcal{E}||{\\bar{\\sigma}^\\mu}_s)$$ \n",
    "for $\\rho_\\mathcal{E} = lim_{\\mu \\rightarrow \\infty} {\\rho^{\\mu}}_{\\mathcal{E}}$.\n",
    "\n",
    "\n",
    "For a optical lossy channel of transmissivity $\\eta$, we can explicitly calculate the upper bound from the above expression as, $\\Phi(\\mathcal{E}) \\leq -log_2(1-\\eta)$, but turns out the $I_{nc}$ coincides with this expression for this channel, hence from (1) we see that the capacity is tightly bound. Finally we have \n",
    "\n",
    "$$C(\\eta) = Q_2(\\eta) = K(\\eta) = D_2(\\eta) = -log_2(1-\\eta)$$"
   ]
  },
  {
   "cell_type": "markdown",
   "metadata": {},
   "source": [
    "#### Gaussian noise and evesdropping  \n",
    "\n",
    "Apart from the lossy channel, the transmission may undergo evesdropping by using entanglers which can be modelled as thermal loss channels. These loss channels have the effect:  \n",
    "\n",
    "$$\\hat{x} \\rightarrow \\sqrt{\\eta}\\hat{x} + \\sqrt{1-\\eta}\\hat{x}_E$$\n",
    "\n",
    "Note that this is different from the lossy channel where there is only loss, and no $\\hat{x}_E$ is added (thermal state, this thermal state can be understood as a partially traced from a EPR pure gaussian state, hence something similar to a maximally mixed state). By using similar arguments as above and explicit calculations, we get a bounds \n",
    "\n",
    "$$ - log_2(1 - \\eta) - h(\\bar{n}) \\leq C(\\eta, \\bar{n}) \\leq -log_2((1-\\eta)\\eta^{\\bar{n}}) - h(\\bar{n})$$\n",
    "for $\\bar{n} < \\frac{\\eta}{1-\\eta}$ where $\\bar{n}$ is the average photon number of the thermal state E.  \n",
    "\n",
    "For high $\\eta$ limit, the bounds coincide. For $\\bar{n}$ we get back the lossy channel."
   ]
  },
  {
   "cell_type": "markdown",
   "metadata": {},
   "source": [
    "#### Variation of $\\eta$:  \n",
    "$\\eta$ varies with distance with a constant loss $\\alpha$ dbm/km. $\\alpha$ is a parameter that depends on the medium.\n",
    "\n",
    "$$\\eta = 10^{-\\frac{-\\alpha d}{10}}$$\n",
    "with d denoting the distance in km.  "
   ]
  },
  {
   "cell_type": "markdown",
   "metadata": {},
   "source": [
    "### Note to contributors  \n",
    "\n",
    "The fundamental capacities have been bounded and shown. Next we need to see how this translates into the fidelity of the resulting states, and hence would help decide rounds of distillations and swapping. The capacities will allow us to determine optimal spacing of repeaters roughtly asymptotically, but the number of input CV states needed will depend on fidelity and the distillation procedure used.\n",
    "\n",
    "Suggest to explore gaussian states used described above, observe the action of the channel on it and analytically, if not computationally determine fidelities of the final state, then use the distillation procedure rate graphs to determine number of rounds required and hence determine number of source pairs required to send, ultimately determining the rate of transmission."
   ]
  },
  {
   "cell_type": "markdown",
   "metadata": {},
   "source": [
    "## References:  \n",
    "[1] - Fundamental capacities of repeaterless networks: https://arxiv.org/abs/1510.08863  \n",
    "[2] - A detailed review on Gaussian quantum information: https://arxiv.org/abs/1110.3234  \n",
    "[3] - Why gaussian states maximize capacity in gaussian channels: https://arxiv.org/abs/1312.3545  \n",
    "[4] - Quantum repeaters, a protocol to optimise and why they work: https://arxiv.org/abs/quant-ph/9803056  "
   ]
  }
 ],
 "metadata": {
  "kernelspec": {
   "display_name": "Python 3",
   "language": "python",
   "name": "python3"
  },
  "language_info": {
   "codemirror_mode": {
    "name": "ipython",
    "version": 3
   },
   "file_extension": ".py",
   "mimetype": "text/x-python",
   "name": "python",
   "nbconvert_exporter": "python",
   "pygments_lexer": "ipython3",
   "version": "3.7.6"
  }
 },
 "nbformat": 4,
 "nbformat_minor": 4
}
